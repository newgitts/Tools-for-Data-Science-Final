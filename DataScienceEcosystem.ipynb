{
 "cells": [
  {
   "cell_type": "markdown",
   "id": "24e6a82b-7440-4f1d-870e-c1f063c8531f",
   "metadata": {},
   "source": [
    "# Data Science Tools and Ecosystem"
   ]
  },
  {
   "cell_type": "markdown",
   "id": "07904398-3505-4a43-a3a2-c588ffb4530d",
   "metadata": {},
   "source": [
    "In this notebook, Data Science Tools and Ecosystem are summarized."
   ]
  },
  {
   "cell_type": "markdown",
   "id": "d07b6f7b-99b6-4b54-834f-002673b2a852",
   "metadata": {},
   "source": [
    "<b>Objectives:</b>\n",
    "- List some of the popular languages in Data Science.\n",
    "- List some of the most commonly used libraries in Data Science.\n",
    "- Convert 200 minutes to hours."
   ]
  },
  {
   "cell_type": "markdown",
   "id": "cf6b2de0-5a93-4cfd-8a6f-0b263fca496e",
   "metadata": {},
   "source": [
    "Some of the popular languages that Data Scientists use are:\n",
    "1. Python\n",
    "2. R\n",
    "3. SQL"
   ]
  },
  {
   "cell_type": "markdown",
   "id": "c01f3326-7317-4563-b914-971acbc4b625",
   "metadata": {},
   "source": [
    "Some of the commonly used libraries used by Data Scientists include:\n",
    "1. Pandas\n",
    "2. ggplot\n",
    "3. NumPy"
   ]
  },
  {
   "cell_type": "markdown",
   "id": "6dd99e5d-a439-4b03-b54b-2f7713b94117",
   "metadata": {},
   "source": [
    "| Data Science Tools |\n",
    "|--------------------|\n",
    "| R Studio |\n",
    "| Git |\n",
    "| Jupyter |"
   ]
  },
  {
   "cell_type": "markdown",
   "id": "72181915-117f-45bd-8eb0-138bf1cd3aec",
   "metadata": {},
   "source": [
    "### Below are a few examples of evaluating arithmetic expressions in Python\n",
    "\n",
    "x = 35\n",
    "\n",
    "y = 25 \n",
    "\n",
    "z = x - y\n",
    "\n",
    "print(z)\n",
    "\n",
    "z = 10\n",
    "\n",
    "or\n",
    "\n",
    "a = 2\n",
    "\n",
    "b = 5\n",
    "\n",
    "c = a*b\n",
    "\n",
    "print(c)\n",
    "\n",
    "c = 10"
   ]
  },
  {
   "cell_type": "code",
   "execution_count": 4,
   "id": "83a9d1a6-7dde-4fac-b6b9-a2f108eb4b7a",
   "metadata": {},
   "outputs": [
    {
     "data": {
      "text/plain": [
       "17"
      ]
     },
     "execution_count": 4,
     "metadata": {},
     "output_type": "execute_result"
    }
   ],
   "source": [
    "# This a simple arithmetic expression to mutiply then add integers\n",
    "(3*4)+5"
   ]
  },
  {
   "cell_type": "code",
   "execution_count": 12,
   "id": "852f39d2-f08e-43d0-9b0f-3a86a615f05f",
   "metadata": {},
   "outputs": [
    {
     "data": {
      "text/plain": [
       "3.3333333333333335"
      ]
     },
     "execution_count": 12,
     "metadata": {},
     "output_type": "execute_result"
    }
   ],
   "source": [
    "# This will convert 200 minutes to hours by diving by 60.\n",
    "minutes = 200\n",
    "hours = 60\n",
    "minutes / hours"
   ]
  },
  {
   "cell_type": "markdown",
   "id": "7f077b50-0508-4128-8a8a-91c79b8e35e6",
   "metadata": {},
   "source": [
    "## Author\n",
    "Sam DeLeon"
   ]
  },
  {
   "cell_type": "code",
   "execution_count": null,
   "id": "7694c4ba-3ad1-49da-9d29-9337b0ee2fb1",
   "metadata": {},
   "outputs": [],
   "source": []
  }
 ],
 "metadata": {
  "kernelspec": {
   "display_name": "Python",
   "language": "python",
   "name": "conda-env-python-py"
  },
  "language_info": {
   "codemirror_mode": {
    "name": "ipython",
    "version": 3
   },
   "file_extension": ".py",
   "mimetype": "text/x-python",
   "name": "python",
   "nbconvert_exporter": "python",
   "pygments_lexer": "ipython3",
   "version": "3.7.12"
  }
 },
 "nbformat": 4,
 "nbformat_minor": 5
}
